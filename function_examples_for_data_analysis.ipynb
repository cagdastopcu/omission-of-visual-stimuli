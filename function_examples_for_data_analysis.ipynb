{
  "nbformat": 4,
  "nbformat_minor": 0,
  "metadata": {
    "colab": {
      "name": "function_examples_for_data_analysis.ipynb",
      "provenance": [],
      "authorship_tag": "ABX9TyNU8zS9/bvZ4Snj7nXMXsBG",
      "include_colab_link": true
    },
    "kernelspec": {
      "name": "python3",
      "display_name": "Python 3"
    },
    "language_info": {
      "name": "python"
    }
  },
  "cells": [
    {
      "cell_type": "markdown",
      "metadata": {
        "id": "view-in-github",
        "colab_type": "text"
      },
      "source": [
        "<a href=\"https://colab.research.google.com/github/cagdastopcu/omission-of-visual-stimuli/blob/main/function_examples_for_data_analysis.ipynb\" target=\"_parent\"><img src=\"https://colab.research.google.com/assets/colab-badge.svg\" alt=\"Open In Colab\"/></a>"
      ]
    },
    {
      "cell_type": "markdown",
      "metadata": {
        "id": "eex7jhoE6xt6"
      },
      "source": [
        "#Pre-analysis setup\n",
        "Setup process for importing Allen SDK materials and data:\n",
        "\n",
        "A lot of this code is taken directly from https://colab.research.google.com/github/NeuromatchAcademy/course-content/blob/master/projects/neurons/load_Allen_Visual_Behavior_from_SDK.ipynb"
      ]
    },
    {
      "cell_type": "markdown",
      "metadata": {
        "id": "cgwfuyf7nY3Y"
      },
      "source": [
        "Install pip so we can install Allen's mindscope package."
      ]
    },
    {
      "cell_type": "code",
      "metadata": {
        "id": "lgY2GiDl6sR0"
      },
      "source": [
        "!python -m pip install --upgrade pip\n",
        "!pip install mindscope_utilities --upgrade"
      ],
      "execution_count": null,
      "outputs": []
    },
    {
      "cell_type": "markdown",
      "metadata": {
        "id": "XUYy5kmmn0A-"
      },
      "source": [
        "This notebook always needs to have the runtime restarted. There should be a button above this line.\n",
        "\n",
        "Import dependencies. The usual stuff, scientific computing stuff, seaborn for plotting, mindscope from allen. AllenSDK's visual behavior packages."
      ]
    },
    {
      "cell_type": "code",
      "metadata": {
        "id": "RXB8NA6K6xRz"
      },
      "source": [
        "import os\n",
        "import numpy as np\n",
        "import pandas as pd\n",
        "from tqdm import tqdm\n",
        "import seaborn as sns\n",
        "import matplotlib.pyplot as plt\n",
        "\n",
        "# Here are the Allen packages:\n",
        "import mindscope_utilities\n",
        "import mindscope_utilities.visual_behavior_ophys as ophys\n",
        "from allensdk.brain_observatory.behavior.behavior_project_cache import VisualBehaviorOphysProjectCache"
      ],
      "execution_count": 1,
      "outputs": []
    },
    {
      "cell_type": "markdown",
      "metadata": {
        "id": "f5YfZLedoCRG"
      },
      "source": [
        "This dataset need to be downloaded somewhere, the default Allen code just uses a local temporary directory."
      ]
    },
    {
      "cell_type": "code",
      "metadata": {
        "id": "cW_QKeMi8NzG",
        "colab": {
          "base_uri": "https://localhost:8080/"
        },
        "outputId": "e1ae4749-10bd-4b39-fa8a-1b8b0bf2794d"
      },
      "source": [
        "data_storage_directory = \"/temp\" # Note: this path must exist on your local drive\n",
        "cache = VisualBehaviorOphysProjectCache.from_s3_cache(cache_dir=data_storage_directory)\n",
        "\n",
        "# Setup the tables for the sessions and experiments:\n",
        "session_table = cache.get_ophys_session_table()\n",
        "experiment_table = cache.get_ophys_experiment_table()"
      ],
      "execution_count": 2,
      "outputs": [
        {
          "output_type": "stream",
          "text": [
            "ophys_session_table.csv: 100%|██████████| 165k/165k [00:00<00:00, 1.81MMB/s]\n",
            "behavior_session_table.csv: 100%|██████████| 885k/885k [00:00<00:00, 9.14MMB/s]\n",
            "ophys_experiment_table.csv: 100%|██████████| 336k/336k [00:00<00:00, 2.35MMB/s] \n"
          ],
          "name": "stderr"
        }
      ]
    },
    {
      "cell_type": "markdown",
      "metadata": {
        "id": "HB2d9xo5pE0f"
      },
      "source": [
        "# Looking through experiment directories to find useful data\n",
        "\n"
      ]
    },
    {
      "cell_type": "markdown",
      "metadata": {
        "id": "AePPrtMKqdmt"
      },
      "source": [
        "Let's take a look at what the session table looks like. I think this is like a meta index of all the different sessions with a bunch of metadata about them."
      ]
    },
    {
      "cell_type": "code",
      "metadata": {
        "colab": {
          "base_uri": "https://localhost:8080/",
          "height": 493
        },
        "id": "XGeJoknmqcCH",
        "outputId": "df354acf-bb3f-48a9-eea4-46a8e00a1ee4"
      },
      "source": [
        "session_table.head()"
      ],
      "execution_count": 56,
      "outputs": [
        {
          "output_type": "execute_result",
          "data": {
            "text/html": [
              "<div>\n",
              "<style scoped>\n",
              "    .dataframe tbody tr th:only-of-type {\n",
              "        vertical-align: middle;\n",
              "    }\n",
              "\n",
              "    .dataframe tbody tr th {\n",
              "        vertical-align: top;\n",
              "    }\n",
              "\n",
              "    .dataframe thead th {\n",
              "        text-align: right;\n",
              "    }\n",
              "</style>\n",
              "<table border=\"1\" class=\"dataframe\">\n",
              "  <thead>\n",
              "    <tr style=\"text-align: right;\">\n",
              "      <th></th>\n",
              "      <th>equipment_name</th>\n",
              "      <th>full_genotype</th>\n",
              "      <th>mouse_id</th>\n",
              "      <th>reporter_line</th>\n",
              "      <th>driver_line</th>\n",
              "      <th>sex</th>\n",
              "      <th>age_in_days</th>\n",
              "      <th>cre_line</th>\n",
              "      <th>indicator</th>\n",
              "      <th>session_number</th>\n",
              "      <th>prior_exposures_to_session_type</th>\n",
              "      <th>prior_exposures_to_image_set</th>\n",
              "      <th>prior_exposures_to_omissions</th>\n",
              "      <th>behavior_session_id</th>\n",
              "      <th>ophys_experiment_id</th>\n",
              "      <th>ophys_container_id</th>\n",
              "      <th>project_code</th>\n",
              "      <th>date_of_acquisition</th>\n",
              "      <th>session_type</th>\n",
              "    </tr>\n",
              "    <tr>\n",
              "      <th>ophys_session_id</th>\n",
              "      <th></th>\n",
              "      <th></th>\n",
              "      <th></th>\n",
              "      <th></th>\n",
              "      <th></th>\n",
              "      <th></th>\n",
              "      <th></th>\n",
              "      <th></th>\n",
              "      <th></th>\n",
              "      <th></th>\n",
              "      <th></th>\n",
              "      <th></th>\n",
              "      <th></th>\n",
              "      <th></th>\n",
              "      <th></th>\n",
              "      <th></th>\n",
              "      <th></th>\n",
              "      <th></th>\n",
              "      <th></th>\n",
              "    </tr>\n",
              "  </thead>\n",
              "  <tbody>\n",
              "    <tr>\n",
              "      <th>951410079</th>\n",
              "      <td>MESO.1</td>\n",
              "      <td>Sst-IRES-Cre/wt;Ai148(TIT2L-GC6f-ICL-tTA2)/wt</td>\n",
              "      <td>457841</td>\n",
              "      <td>Ai148(TIT2L-GC6f-ICL-tTA2)</td>\n",
              "      <td>[Sst-IRES-Cre]</td>\n",
              "      <td>F</td>\n",
              "      <td>206.0</td>\n",
              "      <td>Sst-IRES-Cre</td>\n",
              "      <td>GCaMP6f</td>\n",
              "      <td>1.0</td>\n",
              "      <td>0</td>\n",
              "      <td>65.0</td>\n",
              "      <td>0</td>\n",
              "      <td>951520319</td>\n",
              "      <td>[951980471, 951980473, 951980475, 951980479, 9...</td>\n",
              "      <td>[1018028339, 1018028342, 1018028345, 101802835...</td>\n",
              "      <td>VisualBehaviorMultiscope</td>\n",
              "      <td>2019-09-20 09:45:29.897856</td>\n",
              "      <td>OPHYS_1_images_A</td>\n",
              "    </tr>\n",
              "    <tr>\n",
              "      <th>952430817</th>\n",
              "      <td>MESO.1</td>\n",
              "      <td>Sst-IRES-Cre/wt;Ai148(TIT2L-GC6f-ICL-tTA2)/wt</td>\n",
              "      <td>457841</td>\n",
              "      <td>Ai148(TIT2L-GC6f-ICL-tTA2)</td>\n",
              "      <td>[Sst-IRES-Cre]</td>\n",
              "      <td>F</td>\n",
              "      <td>209.0</td>\n",
              "      <td>Sst-IRES-Cre</td>\n",
              "      <td>GCaMP6f</td>\n",
              "      <td>2.0</td>\n",
              "      <td>0</td>\n",
              "      <td>66.0</td>\n",
              "      <td>1</td>\n",
              "      <td>952554548</td>\n",
              "      <td>[953659743, 953659745, 953659749, 953659752]</td>\n",
              "      <td>[1018028339, 1018028345, 1018028354, 1018028357]</td>\n",
              "      <td>VisualBehaviorMultiscope</td>\n",
              "      <td>2019-09-23 08:13:07.627573</td>\n",
              "      <td>OPHYS_2_images_A_passive</td>\n",
              "    </tr>\n",
              "    <tr>\n",
              "      <th>954954402</th>\n",
              "      <td>MESO.1</td>\n",
              "      <td>Sst-IRES-Cre/wt;Ai148(TIT2L-GC6f-ICL-tTA2)/wt</td>\n",
              "      <td>457841</td>\n",
              "      <td>Ai148(TIT2L-GC6f-ICL-tTA2)</td>\n",
              "      <td>[Sst-IRES-Cre]</td>\n",
              "      <td>F</td>\n",
              "      <td>210.0</td>\n",
              "      <td>Sst-IRES-Cre</td>\n",
              "      <td>GCaMP6f</td>\n",
              "      <td>3.0</td>\n",
              "      <td>0</td>\n",
              "      <td>67.0</td>\n",
              "      <td>2</td>\n",
              "      <td>953982960</td>\n",
              "      <td>[958527464, 958527471, 958527474, 958527479, 9...</td>\n",
              "      <td>[1018028339, 1018028342, 1018028345, 101802835...</td>\n",
              "      <td>VisualBehaviorMultiscope</td>\n",
              "      <td>2019-09-24 16:00:00.000000</td>\n",
              "      <td>OPHYS_3_images_A</td>\n",
              "    </tr>\n",
              "    <tr>\n",
              "      <th>955775716</th>\n",
              "      <td>MESO.1</td>\n",
              "      <td>Sst-IRES-Cre/wt;Ai148(TIT2L-GC6f-ICL-tTA2)/wt</td>\n",
              "      <td>457841</td>\n",
              "      <td>Ai148(TIT2L-GC6f-ICL-tTA2)</td>\n",
              "      <td>[Sst-IRES-Cre]</td>\n",
              "      <td>F</td>\n",
              "      <td>212.0</td>\n",
              "      <td>Sst-IRES-Cre</td>\n",
              "      <td>GCaMP6f</td>\n",
              "      <td>3.0</td>\n",
              "      <td>1</td>\n",
              "      <td>68.0</td>\n",
              "      <td>3</td>\n",
              "      <td>956010809</td>\n",
              "      <td>[956941841, 956941844, 956941846]</td>\n",
              "      <td>[1018028339, 1018028342, 1018028345]</td>\n",
              "      <td>VisualBehaviorMultiscope</td>\n",
              "      <td>2019-09-26 08:44:37.199778</td>\n",
              "      <td>OPHYS_3_images_A</td>\n",
              "    </tr>\n",
              "    <tr>\n",
              "      <th>957020350</th>\n",
              "      <td>MESO.1</td>\n",
              "      <td>Sst-IRES-Cre/wt;Ai148(TIT2L-GC6f-ICL-tTA2)/wt</td>\n",
              "      <td>457841</td>\n",
              "      <td>Ai148(TIT2L-GC6f-ICL-tTA2)</td>\n",
              "      <td>[Sst-IRES-Cre]</td>\n",
              "      <td>F</td>\n",
              "      <td>213.0</td>\n",
              "      <td>Sst-IRES-Cre</td>\n",
              "      <td>GCaMP6f</td>\n",
              "      <td>4.0</td>\n",
              "      <td>0</td>\n",
              "      <td>0.0</td>\n",
              "      <td>4</td>\n",
              "      <td>957032492</td>\n",
              "      <td>[957759562, 957759564, 957759566, 957759570, 9...</td>\n",
              "      <td>[1018028339, 1018028342, 1018028345, 101802835...</td>\n",
              "      <td>VisualBehaviorMultiscope</td>\n",
              "      <td>2019-09-27 08:28:05.415005</td>\n",
              "      <td>OPHYS_4_images_B</td>\n",
              "    </tr>\n",
              "  </tbody>\n",
              "</table>\n",
              "</div>"
            ],
            "text/plain": [
              "                 equipment_name  ...              session_type\n",
              "ophys_session_id                 ...                          \n",
              "951410079                MESO.1  ...          OPHYS_1_images_A\n",
              "952430817                MESO.1  ...  OPHYS_2_images_A_passive\n",
              "954954402                MESO.1  ...          OPHYS_3_images_A\n",
              "955775716                MESO.1  ...          OPHYS_3_images_A\n",
              "957020350                MESO.1  ...          OPHYS_4_images_B\n",
              "\n",
              "[5 rows x 19 columns]"
            ]
          },
          "metadata": {
            "tags": []
          },
          "execution_count": 56
        }
      ]
    },
    {
      "cell_type": "markdown",
      "metadata": {
        "id": "jBRtFc5EqlYu"
      },
      "source": [
        "There are a ton of different properties. We want to look at different cell lines because they relate to the cell types we're interested in. Let's get the unique tags for \"cre_line\", just because the text output for that tag is pretty easy to read."
      ]
    },
    {
      "cell_type": "code",
      "metadata": {
        "colab": {
          "base_uri": "https://localhost:8080/"
        },
        "id": "udsW2OsApNs-",
        "outputId": "bdd4972c-5864-4cad-f119-dc2185de154f"
      },
      "source": [
        "drivers = session_table[\"cre_line\"].unique()\n",
        "print(drivers)"
      ],
      "execution_count": 12,
      "outputs": [
        {
          "output_type": "stream",
          "text": [
            "['Sst-IRES-Cre' 'Vip-IRES-Cre' 'Slc17a7-IRES2-Cre']\n"
          ],
          "name": "stdout"
        }
      ]
    },
    {
      "cell_type": "markdown",
      "metadata": {
        "id": "RBjLIfokr8Uv"
      },
      "source": [
        "Great, now we can get the indices of these cell types from the session table. Let's make a function I guess."
      ]
    },
    {
      "cell_type": "code",
      "metadata": {
        "colab": {
          "base_uri": "https://localhost:8080/"
        },
        "id": "RzdUqsnYr8hm",
        "outputId": "0516771f-d02a-47ac-a8a9-c4206d491604"
      },
      "source": [
        "def get_cell_type_index(cell_type,session_table):\n",
        "\n",
        "    \"\"\"Get the indexes of the Allen sessions that use a particular cre line.\n",
        "    \n",
        "    Args:\n",
        "      cell_type:  a string of the name of the cre line you want. This uses regex so you can try to be less descriptive, like 'sst' is good enoguh for Sst-IRES-cre.\n",
        "      session_table: The table containing the sessions from Allen.\n",
        "\n",
        "    Returns:\n",
        "      ix (1D array): An index of sessions that use that cre line.\n",
        "    \"\"\"\n",
        "\n",
        "    # Look through the cre_line collumn and see if the cell_type string is contained in the output, then write down the index.\n",
        "    ix = session_table.cre_line.str.contains(cell_type,regex=True).index\n",
        "\n",
        "    return ix\n",
        "\n",
        "test_ix = get_cell_type_index('slc',session_table)\n",
        "print(test_ix)\n"
      ],
      "execution_count": 72,
      "outputs": [
        {
          "output_type": "stream",
          "text": [
            "Int64Index([ 951410079,  952430817,  954954402,  955775716,  957020350,\n",
            "             958105827,  958772311,  959458018,  993727065,  993984066,\n",
            "            ...\n",
            "            1050633071, 1050946706, 1051120218,  960475393,  961180142,\n",
            "             961665529,  962736894,  963496285,  964660947,  965319434],\n",
            "           dtype='int64', name='ophys_session_id', length=551)\n"
          ],
          "name": "stdout"
        }
      ]
    },
    {
      "cell_type": "markdown",
      "metadata": {
        "id": "tvwzGn6X8iPh"
      },
      "source": [
        "# Working with experiment ids\n"
      ]
    },
    {
      "cell_type": "code",
      "metadata": {
        "colab": {
          "base_uri": "https://localhost:8080/"
        },
        "id": "BYeokHhL8Wfi",
        "outputId": "e089d39d-07bd-4eab-c9a6-a4eb5d729078"
      },
      "source": [
        "ophys_session_id = test_ix[5]\n",
        "session_table.loc[ophys_session_id]"
      ],
      "execution_count": 46,
      "outputs": [
        {
          "output_type": "execute_result",
          "data": {
            "text/plain": [
              "equipment_name                                                                MESO.1\n",
              "full_genotype                          Sst-IRES-Cre/wt;Ai148(TIT2L-GC6f-ICL-tTA2)/wt\n",
              "mouse_id                                                                      457841\n",
              "reporter_line                                             Ai148(TIT2L-GC6f-ICL-tTA2)\n",
              "driver_line                                                           [Sst-IRES-Cre]\n",
              "sex                                                                                F\n",
              "age_in_days                                                                      216\n",
              "cre_line                                                                Sst-IRES-Cre\n",
              "indicator                                                                    GCaMP6f\n",
              "session_number                                                                     3\n",
              "prior_exposures_to_session_type                                                    2\n",
              "prior_exposures_to_image_set                                                      69\n",
              "prior_exposures_to_omissions                                                       5\n",
              "behavior_session_id                                                        958234742\n",
              "ophys_experiment_id                [958741219, 958741222, 958741230, 958741232, 9...\n",
              "ophys_container_id                 [1018028342, 1018028345, 1018028351, 101802835...\n",
              "project_code                                                VisualBehaviorMultiscope\n",
              "date_of_acquisition                                       2019-09-30 08:24:24.860599\n",
              "session_type                                                        OPHYS_3_images_A\n",
              "Name: 958105827, dtype: object"
            ]
          },
          "metadata": {
            "tags": []
          },
          "execution_count": 46
        }
      ]
    },
    {
      "cell_type": "code",
      "metadata": {
        "colab": {
          "base_uri": "https://localhost:8080/"
        },
        "id": "rc33rZhQ9tuC",
        "outputId": "96a38cfc-846d-4ac3-bd8a-50034f3f500b"
      },
      "source": [
        "experiments = {}\n",
        "ophys_experiment_ids = session_table.loc[ophys_session_id]['ophys_experiment_id']\n",
        "for ophys_experiment_id in ophys_experiment_ids:\n",
        "    experiments[ophys_experiment_id] = cache.get_behavior_ophys_experiment(ophys_experiment_id)"
      ],
      "execution_count": 47,
      "outputs": [
        {
          "output_type": "stream",
          "text": [
            "behavior_ophys_experiment_958741219.nwb: 100%|██████████| 249M/249M [00:07<00:00, 32.6MMB/s]\n",
            "behavior_ophys_experiment_958741222.nwb: 100%|██████████| 259M/259M [00:07<00:00, 34.2MMB/s]\n",
            "behavior_ophys_experiment_958741230.nwb: 100%|██████████| 250M/250M [00:07<00:00, 32.6MMB/s]\n",
            "behavior_ophys_experiment_958741232.nwb: 100%|██████████| 243M/243M [00:07<00:00, 32.9MMB/s]\n",
            "behavior_ophys_experiment_958741234.nwb: 100%|██████████| 238M/238M [00:07<00:00, 32.8MMB/s]\n"
          ],
          "name": "stderr"
        }
      ]
    },
    {
      "cell_type": "code",
      "metadata": {
        "colab": {
          "base_uri": "https://localhost:8080/"
        },
        "id": "-vRPG09L99lZ",
        "outputId": "192d6dea-535b-47ba-d01d-9897da25c0ca"
      },
      "source": [
        "neural_data = []\n",
        "for ophys_experiment_id in tqdm(experiments.keys()): #tqdm is a package that shows progress bars for items that are iterated over\n",
        "    this_experiment = experiments[ophys_experiment_id]\n",
        "    this_experiment_neural_data = ophys.build_tidy_cell_df(this_experiment)\n",
        "    \n",
        "    # add some columns with metadata for the experiment\n",
        "    metadata_keys = [\n",
        "        'ophys_experiment_id',\n",
        "        'ophys_session_id',\n",
        "        'targeted_structure',\n",
        "        'imaging_depth',\n",
        "        'equipment_name',\n",
        "        'cre_line',\n",
        "        'mouse_id',\n",
        "        'sex',\n",
        "    ]\n",
        "    for metadata_key in metadata_keys:\n",
        "        this_experiment_neural_data[metadata_key] = this_experiment.metadata[metadata_key]\n",
        "        \n",
        "    # append the data for this experiment to a list\n",
        "    neural_data.append(this_experiment_neural_data)\n",
        "    \n",
        "# concatate the list of dataframes into a single dataframe\n",
        "neural_data = pd.concat(neural_data)"
      ],
      "execution_count": 48,
      "outputs": [
        {
          "output_type": "stream",
          "text": [
            "100%|██████████| 5/5 [00:25<00:00,  5.12s/it]\n"
          ],
          "name": "stderr"
        }
      ]
    },
    {
      "cell_type": "code",
      "metadata": {
        "id": "w3xnA63v-cp5"
      },
      "source": [
        "mindscope_utilities.event_triggered_response?"
      ],
      "execution_count": 49,
      "outputs": []
    },
    {
      "cell_type": "code",
      "metadata": {
        "id": "ytC8kuMw-o5B"
      },
      "source": [
        "cell_ids = neural_data['cell_specimen_id'].unique()\n",
        "single_cell_timeseries = neural_data.query('cell_specimen_id == 1086557208')\n",
        "stimulus_table = experiments[ophys_experiment_ids[0]].stimulus_presentations.drop(columns = ['image_set']) # dropping the 'image_set' column to avoid confusion. Image_set column contains a unique string for set of images presented in a session.\n"
      ],
      "execution_count": 50,
      "outputs": []
    },
    {
      "cell_type": "code",
      "metadata": {
        "colab": {
          "base_uri": "https://localhost:8080/",
          "height": 296
        },
        "id": "mWsUyJcR-eth",
        "outputId": "f70edfe1-84bf-45b5-c1eb-740d757b4d5d"
      },
      "source": [
        "\n",
        "\n",
        "cell_id = cell_ids[11]\n",
        "etr = mindscope_utilities.event_triggered_response(\n",
        "    data = neural_data.query('cell_specimen_id == @cell_id'),\n",
        "    t = 'timestamps',\n",
        "    y = 'dff',\n",
        "    event_times = stimulus_table.query('omitted')['start_time'],\n",
        "    t_before=3,\n",
        "    t_after=3,\n",
        "    output_sampling_rate = 50,\n",
        ")\n",
        "etr\n",
        "\n",
        "sns.lineplot(\n",
        "    data=etr,\n",
        "    x='time',\n",
        "    y='dff',\n",
        "    n_boot=500\n",
        ")"
      ],
      "execution_count": 51,
      "outputs": [
        {
          "output_type": "execute_result",
          "data": {
            "text/plain": [
              "<matplotlib.axes._subplots.AxesSubplot at 0x7f8823b49290>"
            ]
          },
          "metadata": {
            "tags": []
          },
          "execution_count": 51
        },
        {
          "output_type": "display_data",
          "data": {
            "image/png": "[encoded data removed]",
            "text/plain": [
              "<Figure size 432x288 with 1 Axes>"
            ]
          },
          "metadata": {
            "tags": [],
            "needs_background": "light"
          }
        }
      ]
    },
    {
      "cell_type": "markdown",
      "metadata": {
        "id": "TjN1t5vkzk02"
      },
      "source": [
        "Let's functionalize this, since we want these plots."
      ]
    },
    {
      "cell_type": "code",
      "metadata": {
        "id": "5EB30y31xhj2"
      },
      "source": [
        "def get_response(event_type, neural_data, c_id = 1, t_span = 3, plot = True):\n",
        "\n",
        "  \"\"\"Get the activity of a particular cell in response to an event\n",
        "  \n",
        "  Args:\n",
        "    event_type: string that is a collumn in neural_data. e.g. 'omitted' or 'is_change'\n",
        "    neural_data: the neural data table.\n",
        "    c_id: cell id, which cell to get the response from.\n",
        "    t_span: what timespan to sample, in seconds.\n",
        "    plot: if true, a plot is generated.\n",
        "\n",
        "  Returns:\n",
        "    etr (1D array): The cell activity from -t_span s to +t_span s\n",
        "  \"\"\"\n",
        "\n",
        "  cell_id = cell_ids[c_id]\n",
        "  etr = mindscope_utilities.event_triggered_response(\n",
        "  data = neural_data.query('cell_specimen_id == @cell_id'),\n",
        "  t = 'timestamps',\n",
        "  y = 'dff',\n",
        "  event_times = stimulus_table.query(event_type)['start_time'],\n",
        "  t_before=t_span,\n",
        "  t_after=t_span,\n",
        "  output_sampling_rate = 50,\n",
        "    )\n",
        "  etr\n",
        "\n",
        "  if plot:\n",
        "    sns.lineplot(\n",
        "    data=etr,\n",
        "    x='time',\n",
        "    y='dff',\n",
        "    n_boot=500\n",
        "    ) \n",
        "\n",
        "  return etr"
      ],
      "execution_count": 64,
      "outputs": []
    },
    {
      "cell_type": "code",
      "metadata": {
        "colab": {
          "base_uri": "https://localhost:8080/",
          "height": 419
        },
        "id": "RscdedKcya1W",
        "outputId": "801c4fd1-8a44-4986-ec77-8e1a364fcf52"
      },
      "source": [
        "get_response('is_change',neural_data,11,1,False)"
      ],
      "execution_count": 75,
      "outputs": [
        {
          "output_type": "execute_result",
          "data": {
            "text/html": [
              "<div>\n",
              "<style scoped>\n",
              "    .dataframe tbody tr th:only-of-type {\n",
              "        vertical-align: middle;\n",
              "    }\n",
              "\n",
              "    .dataframe tbody tr th {\n",
              "        vertical-align: top;\n",
              "    }\n",
              "\n",
              "    .dataframe thead th {\n",
              "        text-align: right;\n",
              "    }\n",
              "</style>\n",
              "<table border=\"1\" class=\"dataframe\">\n",
              "  <thead>\n",
              "    <tr style=\"text-align: right;\">\n",
              "      <th></th>\n",
              "      <th>time</th>\n",
              "      <th>dff</th>\n",
              "      <th>event_number</th>\n",
              "      <th>event_time</th>\n",
              "    </tr>\n",
              "  </thead>\n",
              "  <tbody>\n",
              "    <tr>\n",
              "      <th>0</th>\n",
              "      <td>-1.00</td>\n",
              "      <td>0.203044</td>\n",
              "      <td>0</td>\n",
              "      <td>315.47681</td>\n",
              "    </tr>\n",
              "    <tr>\n",
              "      <th>1</th>\n",
              "      <td>-0.98</td>\n",
              "      <td>0.203044</td>\n",
              "      <td>0</td>\n",
              "      <td>315.47681</td>\n",
              "    </tr>\n",
              "    <tr>\n",
              "      <th>2</th>\n",
              "      <td>-0.96</td>\n",
              "      <td>0.203044</td>\n",
              "      <td>0</td>\n",
              "      <td>315.47681</td>\n",
              "    </tr>\n",
              "    <tr>\n",
              "      <th>3</th>\n",
              "      <td>-0.94</td>\n",
              "      <td>0.203044</td>\n",
              "      <td>0</td>\n",
              "      <td>315.47681</td>\n",
              "    </tr>\n",
              "    <tr>\n",
              "      <th>4</th>\n",
              "      <td>-0.92</td>\n",
              "      <td>0.183557</td>\n",
              "      <td>0</td>\n",
              "      <td>315.47681</td>\n",
              "    </tr>\n",
              "    <tr>\n",
              "      <th>...</th>\n",
              "      <td>...</td>\n",
              "      <td>...</td>\n",
              "      <td>...</td>\n",
              "      <td>...</td>\n",
              "    </tr>\n",
              "    <tr>\n",
              "      <th>21609</th>\n",
              "      <td>0.92</td>\n",
              "      <td>0.119485</td>\n",
              "      <td>213</td>\n",
              "      <td>3909.99644</td>\n",
              "    </tr>\n",
              "    <tr>\n",
              "      <th>21610</th>\n",
              "      <td>0.94</td>\n",
              "      <td>0.137368</td>\n",
              "      <td>213</td>\n",
              "      <td>3909.99644</td>\n",
              "    </tr>\n",
              "    <tr>\n",
              "      <th>21611</th>\n",
              "      <td>0.96</td>\n",
              "      <td>0.137368</td>\n",
              "      <td>213</td>\n",
              "      <td>3909.99644</td>\n",
              "    </tr>\n",
              "    <tr>\n",
              "      <th>21612</th>\n",
              "      <td>0.98</td>\n",
              "      <td>0.137368</td>\n",
              "      <td>213</td>\n",
              "      <td>3909.99644</td>\n",
              "    </tr>\n",
              "    <tr>\n",
              "      <th>21613</th>\n",
              "      <td>1.00</td>\n",
              "      <td>0.137368</td>\n",
              "      <td>213</td>\n",
              "      <td>3909.99644</td>\n",
              "    </tr>\n",
              "  </tbody>\n",
              "</table>\n",
              "<p>21614 rows × 4 columns</p>\n",
              "</div>"
            ],
            "text/plain": [
              "       time       dff  event_number  event_time\n",
              "0     -1.00  0.203044             0   315.47681\n",
              "1     -0.98  0.203044             0   315.47681\n",
              "2     -0.96  0.203044             0   315.47681\n",
              "3     -0.94  0.203044             0   315.47681\n",
              "4     -0.92  0.183557             0   315.47681\n",
              "...     ...       ...           ...         ...\n",
              "21609  0.92  0.119485           213  3909.99644\n",
              "21610  0.94  0.137368           213  3909.99644\n",
              "21611  0.96  0.137368           213  3909.99644\n",
              "21612  0.98  0.137368           213  3909.99644\n",
              "21613  1.00  0.137368           213  3909.99644\n",
              "\n",
              "[21614 rows x 4 columns]"
            ]
          },
          "metadata": {
            "tags": []
          },
          "execution_count": 75
        }
      ]
    },
    {
      "cell_type": "code",
      "metadata": {
        "colab": {
          "base_uri": "https://localhost:8080/",
          "height": 683
        },
        "id": "t0_mPlJfybol",
        "outputId": "92c9b63d-8adf-4b34-a3aa-71a7b7255de4"
      },
      "source": [
        "get_response('omitted',neural_data,11,2,plot=True)"
      ],
      "execution_count": 76,
      "outputs": [
        {
          "output_type": "execute_result",
          "data": {
            "text/html": [
              "<div>\n",
              "<style scoped>\n",
              "    .dataframe tbody tr th:only-of-type {\n",
              "        vertical-align: middle;\n",
              "    }\n",
              "\n",
              "    .dataframe tbody tr th {\n",
              "        vertical-align: top;\n",
              "    }\n",
              "\n",
              "    .dataframe thead th {\n",
              "        text-align: right;\n",
              "    }\n",
              "</style>\n",
              "<table border=\"1\" class=\"dataframe\">\n",
              "  <thead>\n",
              "    <tr style=\"text-align: right;\">\n",
              "      <th></th>\n",
              "      <th>time</th>\n",
              "      <th>dff</th>\n",
              "      <th>event_number</th>\n",
              "      <th>event_time</th>\n",
              "    </tr>\n",
              "  </thead>\n",
              "  <tbody>\n",
              "    <tr>\n",
              "      <th>0</th>\n",
              "      <td>-2.00</td>\n",
              "      <td>-0.098405</td>\n",
              "      <td>0</td>\n",
              "      <td>312.45769</td>\n",
              "    </tr>\n",
              "    <tr>\n",
              "      <th>1</th>\n",
              "      <td>-1.98</td>\n",
              "      <td>-0.098405</td>\n",
              "      <td>0</td>\n",
              "      <td>312.45769</td>\n",
              "    </tr>\n",
              "    <tr>\n",
              "      <th>2</th>\n",
              "      <td>-1.96</td>\n",
              "      <td>-0.098405</td>\n",
              "      <td>0</td>\n",
              "      <td>312.45769</td>\n",
              "    </tr>\n",
              "    <tr>\n",
              "      <th>3</th>\n",
              "      <td>-1.94</td>\n",
              "      <td>-0.098405</td>\n",
              "      <td>0</td>\n",
              "      <td>312.45769</td>\n",
              "    </tr>\n",
              "    <tr>\n",
              "      <th>4</th>\n",
              "      <td>-1.92</td>\n",
              "      <td>-0.095552</td>\n",
              "      <td>0</td>\n",
              "      <td>312.45769</td>\n",
              "    </tr>\n",
              "    <tr>\n",
              "      <th>...</th>\n",
              "      <td>...</td>\n",
              "      <td>...</td>\n",
              "      <td>...</td>\n",
              "      <td>...</td>\n",
              "    </tr>\n",
              "    <tr>\n",
              "      <th>26728</th>\n",
              "      <td>1.92</td>\n",
              "      <td>-0.011624</td>\n",
              "      <td>132</td>\n",
              "      <td>3902.47360</td>\n",
              "    </tr>\n",
              "    <tr>\n",
              "      <th>26729</th>\n",
              "      <td>1.94</td>\n",
              "      <td>-0.016278</td>\n",
              "      <td>132</td>\n",
              "      <td>3902.47360</td>\n",
              "    </tr>\n",
              "    <tr>\n",
              "      <th>26730</th>\n",
              "      <td>1.96</td>\n",
              "      <td>-0.016278</td>\n",
              "      <td>132</td>\n",
              "      <td>3902.47360</td>\n",
              "    </tr>\n",
              "    <tr>\n",
              "      <th>26731</th>\n",
              "      <td>1.98</td>\n",
              "      <td>-0.016278</td>\n",
              "      <td>132</td>\n",
              "      <td>3902.47360</td>\n",
              "    </tr>\n",
              "    <tr>\n",
              "      <th>26732</th>\n",
              "      <td>2.00</td>\n",
              "      <td>-0.016278</td>\n",
              "      <td>132</td>\n",
              "      <td>3902.47360</td>\n",
              "    </tr>\n",
              "  </tbody>\n",
              "</table>\n",
              "<p>26733 rows × 4 columns</p>\n",
              "</div>"
            ],
            "text/plain": [
              "       time       dff  event_number  event_time\n",
              "0     -2.00 -0.098405             0   312.45769\n",
              "1     -1.98 -0.098405             0   312.45769\n",
              "2     -1.96 -0.098405             0   312.45769\n",
              "3     -1.94 -0.098405             0   312.45769\n",
              "4     -1.92 -0.095552             0   312.45769\n",
              "...     ...       ...           ...         ...\n",
              "26728  1.92 -0.011624           132  3902.47360\n",
              "26729  1.94 -0.016278           132  3902.47360\n",
              "26730  1.96 -0.016278           132  3902.47360\n",
              "26731  1.98 -0.016278           132  3902.47360\n",
              "26732  2.00 -0.016278           132  3902.47360\n",
              "\n",
              "[26733 rows x 4 columns]"
            ]
          },
          "metadata": {
            "tags": []
          },
          "execution_count": 76
        },
        {
          "output_type": "display_data",
          "data": {
            "image/png": "[encoded data removed]",
            "text/plain": [
              "<Figure size 432x288 with 1 Axes>"
            ]
          },
          "metadata": {
            "tags": [],
            "needs_background": "light"
          }
        }
      ]
    }
  ]
}